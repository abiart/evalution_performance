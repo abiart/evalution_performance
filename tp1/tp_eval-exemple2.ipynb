{
 "cells": [
  {
   "cell_type": "markdown",
   "metadata": {},
   "source": [
    "***************************"
   ]
  },
  {
   "cell_type": "markdown",
   "metadata": {},
   "source": [
    "## <center><span style=\"color:#F5B041 \"> EXEMPLE 2: la distribution exponentielle </span> </center>"
   ]
  },
  {
   "cell_type": "markdown",
   "metadata": {},
   "source": [
    "## Importation des bibliothéques\n",
    "        "
   ]
  },
  {
   "cell_type": "code",
   "execution_count": 10,
   "metadata": {},
   "outputs": [],
   "source": [
    "import random\n",
    "import matplotlib.pyplot as plt\n",
    "import math\n",
    "import numpy as np"
   ]
  },
  {
   "cell_type": "markdown",
   "metadata": {},
   "source": [
    "##  Fonction pour calculer la moyenne empérique"
   ]
  },
  {
   "cell_type": "code",
   "execution_count": 11,
   "metadata": {},
   "outputs": [],
   "source": [
    "def Xn(t,n):\n",
    "    x=0\n",
    "    for j in t:\n",
    "        x=x+j\n",
    "    return x/n\n",
    "    "
   ]
  },
  {
   "cell_type": "markdown",
   "metadata": {},
   "source": [
    "## Déclaration de fonction qui va générer les valeurs xn"
   ]
  },
  {
   "cell_type": "code",
   "execution_count": 12,
   "metadata": {},
   "outputs": [],
   "source": [
    "def alea_table(n,lamda):\n",
    "    t=np.random.exponential(1/lamda,n)\n",
    "    return(t)"
   ]
  },
  {
   "cell_type": "markdown",
   "metadata": {},
   "source": [
    "##  Fonction pour calculer la variance empérique"
   ]
  },
  {
   "cell_type": "code",
   "execution_count": 13,
   "metadata": {},
   "outputs": [],
   "source": [
    "def variance(t,n,xn):\n",
    "    tita=0\n",
    "    for i in t:\n",
    "        tita=tita+(i-xn)**2\n",
    "        return tita/n"
   ]
  },
  {
   "cell_type": "markdown",
   "metadata": {},
   "source": [
    "# Coder la distibution exponentielle\n"
   ]
  },
  {
   "cell_type": "code",
   "execution_count": 36,
   "metadata": {},
   "outputs": [
    {
     "data": {
      "image/png": "[encoded data removed]",
      "text/plain": [
       "<Figure size 432x288 with 1 Axes>"
      ]
     },
     "metadata": {
      "needs_background": "light"
     },
     "output_type": "display_data"
    },
    {
     "name": "stdout",
     "output_type": "stream",
     "text": [
      " pour10 valeurs aléatoires :la moyenne empérique =0.306660486795877, la varience emprique=0.019760836340306575 \n",
      " pour100 valeurs aléatoires :la moyenne empérique =0.49889351548780725, la varience emprique=0.6795814378107312 \n",
      " pour1000 valeurs aléatoires :la moyenne empérique =0.5023936803365754, la varience emprique=1.2051890163588739 \n",
      " pour10000 valeurs aléatoires :la moyenne empérique =0.4929539251415812, la varience emprique=0.3029332149645914 \n",
      " pour100000 valeurs aléatoires :la moyenne empérique =0.5016802422586987, la varience emprique=0.4622859209311896 \n",
      " pour1000000 valeurs aléatoires :la moyenne empérique =0.500127331553147, la varience emprique=0.4437145593034008 \n"
     ]
    }
   ],
   "source": [
    "n=[10,100,1000,10000,100000,1000000]\n",
    "tita_table=[]\n",
    "xn=[]\n",
    "lamda=2\n",
    "for i in n:\n",
    "    t=alea_table(i,lamda)\n",
    "    xn.append(Xn(t,i))\n",
    "    tita_table.append(variance(t,i,Xn(t,i)))\n",
    "plt.plot(n,xn,color='g',label=\"moyenne empérique\")\n",
    "plt.plot(n,tita_table ,color='r',label=\"variance empérique\")\n",
    "plt.legend()\n",
    "plt.xlabel(\"Nombre d'echantillon\")\n",
    "plt.ylabel(\"Variables aléatoires\")\n",
    "plt.title(\" la moyenne empérique et la variance empérique\")\n",
    "plt.grid()\n",
    "plt.show()\n",
    "\n",
    "for i in range(len(n)):\n",
    "    print(\" pour{} valeurs aléatoires :la moyenne empérique ={}, la varience emprique={} \".format(n[i],xn[i],t[i]))"
   ]
  },
  {
   "cell_type": "markdown",
   "metadata": {},
   "source": [
    ">## <span > Des valeurs pratiques :  </span>"
   ]
  },
  {
   "cell_type": "markdown",
   "metadata": {},
   "source": [
    "| N       | la moyenne empérique         | la varience emprique |\n",
    "| :--------------- |:---------------:| -----:|\n",
    "| 100       |   0.49889351548780725       |0.6795814378107312    |\n",
    "|  1000                |   0.5023936803365754           |1.2051890163588739      |\n",
    "|10000                 |0.4929539251415812   |0.3029332149645914 \n",
    "| 100000                 |  0.5016802422586987            |0.4622859209311896\n",
    "\n"
   ]
  },
  {
   "cell_type": "markdown",
   "metadata": {},
   "source": [
    ">## <span > les valeurs theoriques :  </span>"
   ]
  },
  {
   "cell_type": "markdown",
   "metadata": {},
   "source": [
    "#### <center> la moyenne EX = 1/lamda   la variance VX= 1/(lamda)*2  </center>"
   ]
  },
  {
   "cell_type": "markdown",
   "metadata": {},
   "source": [
    "## interprétation"
   ]
  },
  {
   "attachments": {},
   "cell_type": "markdown",
   "metadata": {},
   "source": [
    "<div class=\"alert alert-success\"> <span style=\"color:#707000\">\n",
    "en augmmentant n les valeurs pratique  de moyenne et variance empérique rapproche et devient égal au celle calcullés        theoriquement .\n",
    "====>     \n",
    "N est proportionnelle à la valeur moyenne et  inversement proportionnelle à la variance mathématique pour une    distribution exponentielle."
   ]
  },
  {
   "cell_type": "code",
   "execution_count": null,
   "metadata": {},
   "outputs": [],
   "source": []
  }
 ],
 "metadata": {
  "kernelspec": {
   "display_name": "Python 3",
   "language": "python",
   "name": "python3"
  },
  "language_info": {
   "codemirror_mode": {
    "name": "ipython",
    "version": 3
   },
   "file_extension": ".py",
   "mimetype": "text/x-python",
   "name": "python",
   "nbconvert_exporter": "python",
   "pygments_lexer": "ipython3",
   "version": "3.8.3"
  }
 },
 "nbformat": 4,
 "nbformat_minor": 4
}
