{
 "cells": [
  {
   "cell_type": "markdown",
   "metadata": {},
   "source": [
    "# <center style=\"color:#FF00FF\" >  Génération de nombres aléatoires de différentes distributions </center>"
   ]
  },
  {
   "cell_type": "markdown",
   "metadata": {},
   "source": [
    "*****************************"
   ]
  },
  {
   "cell_type": "markdown",
   "metadata": {},
   "source": [
    "# <center style=\"color:#ffc6b3\" > Compte Rendu TP1  </center>\n",
    "### <center style=\"color:#FF00FF\" > Benamor ABIR & GHRAIEB WAFA </center>"
   ]
  },
  {
   "cell_type": "markdown",
   "metadata": {},
   "source": [
    "***************************************"
   ]
  },
  {
   "cell_type": "markdown",
   "metadata": {},
   "source": [
    "## <span style=\"color:#F5B041 \"> objectif du tp :\n",
    "\n",
    "- Collecter des statistiques sur les suites de nombres qui générées comme la distribution.\n",
    "- Vérifier les validités des algorithmes de génération et la précision des statistiques.\n"
   ]
  },
  {
   "cell_type": "markdown",
   "metadata": {},
   "source": [
    "## <span style=\"color:#F5B041 \"> EXEMPLE 1: <span style =\"color:green\"> la distribution uniforme continu sur l'intervalle [0,1]"
   ]
  },
  {
   "cell_type": "markdown",
   "metadata": {},
   "source": [
    "******************************"
   ]
  },
  {
   "cell_type": "markdown",
   "metadata": {},
   "source": [
    "## Importation des bibliothéques\n",
    "        "
   ]
  },
  {
   "cell_type": "code",
   "execution_count": 1,
   "metadata": {},
   "outputs": [],
   "source": [
    "import random\n",
    "import matplotlib.pyplot as plt\n",
    "import math"
   ]
  },
  {
   "cell_type": "markdown",
   "metadata": {},
   "source": [
    "##  Fonction pour calculer la moyenne empérique"
   ]
  },
  {
   "cell_type": "code",
   "execution_count": 2,
   "metadata": {},
   "outputs": [],
   "source": [
    "def Xn(t,n):\n",
    "    x=0\n",
    "    for j in t:\n",
    "        x=x+j\n",
    "    return x/n\n",
    "    "
   ]
  },
  {
   "cell_type": "markdown",
   "metadata": {},
   "source": [
    "## Déclaration de fonction qui va générer les valeurs xn"
   ]
  },
  {
   "cell_type": "code",
   "execution_count": 3,
   "metadata": {},
   "outputs": [],
   "source": [
    "def alea_table(n):\n",
    "    t=[]\n",
    "    for i in range(n+1):\n",
    "        t.append(random.uniform(0,1))#\n",
    "    return(t)"
   ]
  },
  {
   "cell_type": "markdown",
   "metadata": {},
   "source": [
    "##  Fonction pour calculer la variance empérique"
   ]
  },
  {
   "cell_type": "code",
   "execution_count": 4,
   "metadata": {},
   "outputs": [],
   "source": [
    "def variance(t,n,xn):\n",
    "    tita=0\n",
    "    for i in t:\n",
    "        tita=tita+(i-xn)**2\n",
    "        return tita/n"
   ]
  },
  {
   "cell_type": "markdown",
   "metadata": {},
   "source": [
    "## coder la distibution uniforme continu sur l'intervalle [0,1]"
   ]
  },
  {
   "cell_type": "code",
   "execution_count": 5,
   "metadata": {},
   "outputs": [
    {
     "data": {
      "image/png": "[encoded data removed]",
      "text/plain": [
       "<Figure size 432x288 with 1 Axes>"
      ]
     },
     "metadata": {
      "needs_background": "light"
     },
     "output_type": "display_data"
    },
    {
     "name": "stdout",
     "output_type": "stream",
     "text": [
      " pour10 valeurs aléatoires :la moyenne empérique =0.7337889190179796, la varience emprique=0.8100111636184459 \n",
      " pour100 valeurs aléatoires :la moyenne empérique =0.4974958104090964, la varience emprique=0.407448860884578 \n",
      " pour1000 valeurs aléatoires :la moyenne empérique =0.4772922250154151, la varience emprique=0.4139546600458919 \n",
      " pour10000 valeurs aléatoires :la moyenne empérique =0.49935594777579745, la varience emprique=0.02085069911876558 \n"
     ]
    }
   ],
   "source": [
    "n=[10,100,1000,10000]\n",
    "tita_table=[]\n",
    "xn=[]\n",
    "for i in n:\n",
    "    t=alea_table(i)\n",
    "    xn.append(Xn(t,i))\n",
    "    tita_table.append(variance(t,i,Xn(t,i)))\n",
    "plt.plot(n,tita_table ,color='r',label=\"variance empérique\")\n",
    "plt.plot(n,xn,color='g',label=\"moyenne empérique\")\n",
    "plt.legend()\n",
    "plt.xlabel(\"Nombre d'echantillon\")\n",
    "plt.ylabel(\"Variables aléatoires\")\n",
    "plt.title(\" la moyenne empérique et la variance empérique\")\n",
    "plt.grid()\n",
    "plt.show()\n",
    "\n",
    "for i in range(len(n)):\n",
    "    print(\" pour{} valeurs aléatoires :la moyenne empérique ={}, la varience emprique={} \".format(n[i],xn[i],t[i]))"
   ]
  },
  {
   "cell_type": "markdown",
   "metadata": {},
   "source": [
    ">## <span > Des valeurs pratiques :  </span>"
   ]
  },
  {
   "cell_type": "markdown",
   "metadata": {},
   "source": [
    "| N       | la moyenne empérique         | la varience emprique |\n",
    "| :--------------- |:---------------:| -----:|\n",
    "| 100       |   0.4974958104090964      |0.407448860884578    |\n",
    "|  1000                |   0.4772922250154151           |0.4139546600458919      |\n",
    "|10000                 |0.4929539251415812   |0.3029332149645914 \n",
    "\n"
   ]
  },
  {
   "cell_type": "markdown",
   "metadata": {},
   "source": [
    ">## <span > les valeurs theoriques :  </span>"
   ]
  },
  {
   "cell_type": "markdown",
   "metadata": {},
   "source": [
    "#### <center> la moyenne EX = 1/2  la variance VX= 1/12 </center>"
   ]
  },
  {
   "cell_type": "markdown",
   "metadata": {},
   "source": [
    "## Interprétation :"
   ]
  },
  {
   "cell_type": "markdown",
   "metadata": {},
   "source": [
    "<div class=\"alert alert-success\"> <span style=\"color:#707000\">\n",
    "en augmmentant n les valeurs pratique  de moyenne et variance empérique rapproche et devient égal au celle calcullés        theoriquement .\n",
    "====>   \n",
    "\n",
    "le nombre d’échantillons N est inversement proportionnelle de valeur moyenne et la variance mathématique"
   ]
  },
  {
   "cell_type": "code",
   "execution_count": null,
   "metadata": {},
   "outputs": [],
   "source": []
  }
 ],
 "metadata": {
  "kernelspec": {
   "display_name": "Python 3",
   "language": "python",
   "name": "python3"
  },
  "language_info": {
   "codemirror_mode": {
    "name": "ipython",
    "version": 3
   },
   "file_extension": ".py",
   "mimetype": "text/x-python",
   "name": "python",
   "nbconvert_exporter": "python",
   "pygments_lexer": "ipython3",
   "version": "3.8.3"
  }
 },
 "nbformat": 4,
 "nbformat_minor": 4
}
