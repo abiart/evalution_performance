{
 "cells": [
  {
   "cell_type": "markdown",
   "metadata": {},
   "source": [
    "*******************"
   ]
  },
  {
   "cell_type": "markdown",
   "metadata": {},
   "source": [
    "## <center><span style=\"color:#F5B041 \"> EXEMPLE 3 : la distribution discrète uniforme sur l'intervalle [a,b] </span> </center>"
   ]
  },
  {
   "cell_type": "markdown",
   "metadata": {},
   "source": [
    "*******************************"
   ]
  },
  {
   "cell_type": "markdown",
   "metadata": {},
   "source": [
    "## Importation des bibliothéques\n",
    "        "
   ]
  },
  {
   "cell_type": "code",
   "execution_count": 42,
   "metadata": {},
   "outputs": [],
   "source": [
    "from scipy.stats import randint\n",
    "import matplotlib.pyplot as plt\n",
    "import numpy as np\n",
    "import math\n",
    "import random\n"
   ]
  },
  {
   "cell_type": "markdown",
   "metadata": {},
   "source": [
    "##  Fonction pour calculer la moyenne empérique"
   ]
  },
  {
   "cell_type": "markdown",
   "metadata": {},
   "source": [
    "def uniforme(a,b):\n",
    "    return(a+(b-a)*random())\n"
   ]
  },
  {
   "cell_type": "code",
   "execution_count": 43,
   "metadata": {},
   "outputs": [],
   "source": [
    "def Xn(t,n):\n",
    "    x=0\n",
    "    for j in t:\n",
    "        x=x+j\n",
    "    return x/n\n",
    "    "
   ]
  },
  {
   "cell_type": "markdown",
   "metadata": {},
   "source": [
    "## Déclaration de fonction qui va générer les valeurs xn"
   ]
  },
  {
   "cell_type": "code",
   "execution_count": 54,
   "metadata": {},
   "outputs": [],
   "source": [
    "def alea_table(n):\n",
    "    t=[]\n",
    "    for i in range(n+1):\n",
    "        t.append(random.uniform(a,b))#\n",
    "    return(t)\n",
    "   "
   ]
  },
  {
   "cell_type": "markdown",
   "metadata": {},
   "source": [
    "##  Fonction pour calculer la variance empérique"
   ]
  },
  {
   "cell_type": "code",
   "execution_count": 55,
   "metadata": {},
   "outputs": [],
   "source": [
    "def variance(t,n,xn):\n",
    "    tita=0\n",
    "    for i in t:\n",
    "        tita=tita+(i-xn)**2\n",
    "        return tita/n"
   ]
  },
  {
   "cell_type": "markdown",
   "metadata": {},
   "source": [
    "## coder la distribution discrète uniforme sur l'intervalle [a,b]"
   ]
  },
  {
   "cell_type": "code",
   "execution_count": 59,
   "metadata": {},
   "outputs": [
    {
     "data": {
      "image/png": "[encoded data removed]",
      "text/plain": [
       "<Figure size 432x288 with 1 Axes>"
      ]
     },
     "metadata": {
      "needs_background": "light"
     },
     "output_type": "display_data"
    },
    {
     "name": "stdout",
     "output_type": "stream",
     "text": [
      " pour100 valeurs aléatoires :la moyenne empérique =52.38440713314205, la varience emprique=35.55965466442109 \n",
      " pour1000 valeurs aléatoires :la moyenne empérique =52.34321750742593, la varience emprique=22.421144989850866 \n",
      " pour10000 valeurs aléatoires :la moyenne empérique =52.51548050099128, la varience emprique=78.11322497293064 \n",
      " pour100000 valeurs aléatoires :la moyenne empérique =52.4162638990363, la varience emprique=89.10381022047311 \n"
     ]
    }
   ],
   "source": [
    "n=[100,1000,10000,100000]\n",
    "\n",
    "tita_table=[]\n",
    "xn=[]\n",
    "a=5\n",
    "b=100\n",
    "for i in n:\n",
    "    t=alea_table(i)\n",
    "    xn.append(Xn(t,i))\n",
    "    tita_table.append(variance(t,i,Xn(t,i)))\n",
    "plt.plot(n,tita_table ,color='r',label=\"variance empérique\")\n",
    "plt.plot(n,xn,color='g',label=\"moyenne empérique\")\n",
    "plt.legend()\n",
    "plt.xlabel(\"Nombre d'echantillon\")\n",
    "plt.ylabel(\"Variables aléatoires\")\n",
    "plt.title(\" la moyenne empérique et la variance empérique\")\n",
    "plt.grid()\n",
    "plt.show()\n",
    "\n",
    "\n",
    "\n",
    "for i in range(len(n)):\n",
    "    print(\" pour{} valeurs aléatoires :la moyenne empérique ={}, la varience emprique={} \".format(n[i],xn[i],t[i]))"
   ]
  },
  {
   "cell_type": "markdown",
   "metadata": {},
   "source": [
    ">## Interprétation :"
   ]
  },
  {
   "cell_type": "markdown",
   "metadata": {},
   "source": [
    "<div class=\"alert alert-success\"> <span style=\"color:#707000\"> le nombre d’échantillons N est inversement proportionnelle de valeur moyenne et la variance mathématique en utilisant la loi uniforme discrète.\n",
    "    \n",
    "\n"
   ]
  },
  {
   "cell_type": "code",
   "execution_count": null,
   "metadata": {},
   "outputs": [],
   "source": []
  }
 ],
 "metadata": {
  "kernelspec": {
   "display_name": "Python 3",
   "language": "python",
   "name": "python3"
  },
  "language_info": {
   "codemirror_mode": {
    "name": "ipython",
    "version": 3
   },
   "file_extension": ".py",
   "mimetype": "text/x-python",
   "name": "python",
   "nbconvert_exporter": "python",
   "pygments_lexer": "ipython3",
   "version": "3.8.3"
  }
 },
 "nbformat": 4,
 "nbformat_minor": 4
}
